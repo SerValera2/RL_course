{
 "cells": [
  {
   "cell_type": "code",
   "execution_count": 14,
   "metadata": {},
   "outputs": [],
   "source": [
    "from rcognita import System, NominalController, Controller, Simulation, AnswerTracker\n",
    "from IPython.display import HTML"
   ]
  },
  {
   "cell_type": "code",
   "execution_count": 16,
   "metadata": {},
   "outputs": [],
   "source": [
    "# Step 1: Instantiate the environment\n",
    "sys = System(initial_x = -5, initial_y = -5)\n",
    "\n",
    "# Step 2: Instantiate the agent/controller\n",
    "agent = Controller(sys,\n",
    "                    ctrl_mode=5,\n",
    "                    buffer_size=50,\n",
    "                    n_actor=4,\n",
    "                    n_critic=20,\n",
    "                    estimator_update_time=0.1,\n",
    "                    critic_mode=3,\n",
    "                    t1 = 22,\n",
    "                    estimator_buffer_power=6, \n",
    "                    estimator_buffer_fill=2,\n",
    "                    gamma = 0.95\n",
    "                  )\n",
    "\n",
    "# Step 3: instantiate the nominal controller\n",
    "nominalCtrl = NominalController()\n",
    "\n",
    "# Step 4: instantiate the simulation\n",
    "sim = Simulation(sys, agent, nominalCtrl)"
   ]
  },
  {
   "cell_type": "code",
   "execution_count": 17,
   "metadata": {},
   "outputs": [],
   "source": [
    "%matplotlib tk\n",
    "sim.run_simulation(close_plt_on_finish = False)"
   ]
  },
  {
   "cell_type": "code",
   "execution_count": 8,
   "metadata": {},
   "outputs": [
    {
     "name": "stdout",
     "output_type": "stream",
     "text": [
      "6\n",
      "2\n",
      "0.95\n",
      "22\n"
     ]
    }
   ],
   "source": [
    "print(agent.estimator_buffer_power)\n",
    "print(agent.estimator_buffer_fill)\n",
    "print(agent.gamma)\n",
    "print(agent.t1)\n"
   ]
  },
  {
   "cell_type": "code",
   "execution_count": 13,
   "metadata": {},
   "outputs": [
    {
     "data": {
      "text/plain": [
       "-5"
      ]
     },
     "execution_count": 13,
     "metadata": {},
     "output_type": "execute_result"
    }
   ],
   "source": [
    "agent.estimator_update_time"
   ]
  },
  {
   "cell_type": "code",
   "execution_count": null,
   "metadata": {},
   "outputs": [],
   "source": [
    "ctrl_mode (hint: use a discretized model)\n",
    "buffer_size\n",
    "n_actor\n",
    "n_critic\n",
    "estimator_update_time"
   ]
  }
 ],
 "metadata": {
  "kernelspec": {
   "display_name": "Python 3",
   "language": "python",
   "name": "python3"
  },
  "language_info": {
   "codemirror_mode": {
    "name": "ipython",
    "version": 3
   },
   "file_extension": ".py",
   "mimetype": "text/x-python",
   "name": "python",
   "nbconvert_exporter": "python",
   "pygments_lexer": "ipython3",
   "version": "3.7.9"
  }
 },
 "nbformat": 4,
 "nbformat_minor": 4
}
